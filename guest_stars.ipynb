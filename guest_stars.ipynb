{
  "nbformat": 4,
  "nbformat_minor": 0,
  "metadata": {
    "colab": {
      "name": "guest stars",
      "provenance": [],
      "collapsed_sections": [],
      "authorship_tag": "ABX9TyMD91SsWEkfxekU4e3ol+2G"
    },
    "kernelspec": {
      "name": "python3",
      "display_name": "Python 3"
    },
    "language_info": {
      "name": "python"
    }
  },
  "cells": [
    {
      "cell_type": "markdown",
      "metadata": {
        "id": "9fpKIE8cextJ"
      },
      "source": [
        "**The Office**\n",
        "* episode_number: Canonical episode number.\n",
        "* season: Season in which the episode appeared.\n",
        "* episode_title: Title of the episode.\n",
        "* description: Description of the episode.\n",
        "* ratings: Average IMDB rating.\n",
        "* votes: Number of votes.\n",
        "* viewership_mil: Number of US viewers in millions.\n",
        "* duration: Duration in number of minutes.\n",
        "* release_date: Airdate.\n",
        "* guest_stars: Guest stars in the episode (if any).\n",
        "* director: Director of the episode.\n",
        "* writers: Writers of the episode.\n",
        "* has_guests: True/False column for whether the episode contained guest stars.\n",
        "* scaled_ratings: The ratings scaled from 0 (worst-reviewed) to 1 (best-reviewed).\n",
        "\n"
      ]
    },
    {
      "cell_type": "code",
      "metadata": {
        "colab": {
          "base_uri": "https://localhost:8080/"
        },
        "id": "2rGRtgm3fLTT",
        "outputId": "d49578fc-fad2-4b2f-e4e1-86fd92931fa0"
      },
      "source": [
        "from google.colab import drive\n",
        "drive.mount('/content/drive')"
      ],
      "execution_count": 1,
      "outputs": [
        {
          "output_type": "stream",
          "text": [
            "Mounted at /content/drive\n"
          ],
          "name": "stdout"
        }
      ]
    },
    {
      "cell_type": "code",
      "metadata": {
        "id": "WjQsApVUfoaJ"
      },
      "source": [
        "import pandas as pd\n",
        "import matplotlib.pyplot as plt"
      ],
      "execution_count": 2,
      "outputs": []
    },
    {
      "cell_type": "code",
      "metadata": {
        "colab": {
          "base_uri": "https://localhost:8080/",
          "height": 513
        },
        "id": "8ExTtmuaf43A",
        "outputId": "0e1fabf7-1e15-4575-8688-443dea213c51"
      },
      "source": [
        "df = pd.read_csv('')\n",
        "df.head()"
      ],
      "execution_count": 3,
      "outputs": [
        {
          "output_type": "execute_result",
          "data": {
            "text/html": [
              "<div>\n",
              "<style scoped>\n",
              "    .dataframe tbody tr th:only-of-type {\n",
              "        vertical-align: middle;\n",
              "    }\n",
              "\n",
              "    .dataframe tbody tr th {\n",
              "        vertical-align: top;\n",
              "    }\n",
              "\n",
              "    .dataframe thead th {\n",
              "        text-align: right;\n",
              "    }\n",
              "</style>\n",
              "<table border=\"1\" class=\"dataframe\">\n",
              "  <thead>\n",
              "    <tr style=\"text-align: right;\">\n",
              "      <th></th>\n",
              "      <th>episode_number</th>\n",
              "      <th>season</th>\n",
              "      <th>episode_title</th>\n",
              "      <th>description</th>\n",
              "      <th>ratings</th>\n",
              "      <th>votes</th>\n",
              "      <th>viewership_mil</th>\n",
              "      <th>duration</th>\n",
              "      <th>release_date</th>\n",
              "      <th>guest_stars</th>\n",
              "      <th>director</th>\n",
              "      <th>writers</th>\n",
              "      <th>has_guests</th>\n",
              "      <th>scaled_ratings</th>\n",
              "    </tr>\n",
              "  </thead>\n",
              "  <tbody>\n",
              "    <tr>\n",
              "      <th>0</th>\n",
              "      <td>0</td>\n",
              "      <td>1</td>\n",
              "      <td>Pilot</td>\n",
              "      <td>The premiere episode introduces the boss and s...</td>\n",
              "      <td>7.5</td>\n",
              "      <td>4936</td>\n",
              "      <td>11.2</td>\n",
              "      <td>23</td>\n",
              "      <td>2005-03-24</td>\n",
              "      <td>NaN</td>\n",
              "      <td>Ken Kwapis</td>\n",
              "      <td>Ricky Gervais |Stephen Merchant and Greg Daniels</td>\n",
              "      <td>False</td>\n",
              "      <td>0.28125</td>\n",
              "    </tr>\n",
              "    <tr>\n",
              "      <th>1</th>\n",
              "      <td>1</td>\n",
              "      <td>1</td>\n",
              "      <td>Diversity Day</td>\n",
              "      <td>Michael's off color remark puts a sensitivity ...</td>\n",
              "      <td>8.3</td>\n",
              "      <td>4801</td>\n",
              "      <td>6.0</td>\n",
              "      <td>23</td>\n",
              "      <td>2005-03-29</td>\n",
              "      <td>NaN</td>\n",
              "      <td>Ken Kwapis</td>\n",
              "      <td>B. J. Novak</td>\n",
              "      <td>False</td>\n",
              "      <td>0.53125</td>\n",
              "    </tr>\n",
              "    <tr>\n",
              "      <th>2</th>\n",
              "      <td>2</td>\n",
              "      <td>1</td>\n",
              "      <td>Health Care</td>\n",
              "      <td>Michael leaves Dwight in charge of picking the...</td>\n",
              "      <td>7.8</td>\n",
              "      <td>4024</td>\n",
              "      <td>5.8</td>\n",
              "      <td>22</td>\n",
              "      <td>2005-04-05</td>\n",
              "      <td>NaN</td>\n",
              "      <td>Ken Whittingham</td>\n",
              "      <td>Paul Lieberstein</td>\n",
              "      <td>False</td>\n",
              "      <td>0.37500</td>\n",
              "    </tr>\n",
              "    <tr>\n",
              "      <th>3</th>\n",
              "      <td>3</td>\n",
              "      <td>1</td>\n",
              "      <td>The Alliance</td>\n",
              "      <td>Just for a laugh, Jim agrees to an alliance wi...</td>\n",
              "      <td>8.1</td>\n",
              "      <td>3915</td>\n",
              "      <td>5.4</td>\n",
              "      <td>23</td>\n",
              "      <td>2005-04-12</td>\n",
              "      <td>NaN</td>\n",
              "      <td>Bryan Gordon</td>\n",
              "      <td>Michael Schur</td>\n",
              "      <td>False</td>\n",
              "      <td>0.46875</td>\n",
              "    </tr>\n",
              "    <tr>\n",
              "      <th>4</th>\n",
              "      <td>4</td>\n",
              "      <td>1</td>\n",
              "      <td>Basketball</td>\n",
              "      <td>Michael and his staff challenge the warehouse ...</td>\n",
              "      <td>8.4</td>\n",
              "      <td>4294</td>\n",
              "      <td>5.0</td>\n",
              "      <td>23</td>\n",
              "      <td>2005-04-19</td>\n",
              "      <td>NaN</td>\n",
              "      <td>Greg Daniels</td>\n",
              "      <td>Greg Daniels</td>\n",
              "      <td>False</td>\n",
              "      <td>0.56250</td>\n",
              "    </tr>\n",
              "  </tbody>\n",
              "</table>\n",
              "</div>"
            ],
            "text/plain": [
              "   episode_number  season  ... has_guests scaled_ratings\n",
              "0               0       1  ...      False        0.28125\n",
              "1               1       1  ...      False        0.53125\n",
              "2               2       1  ...      False        0.37500\n",
              "3               3       1  ...      False        0.46875\n",
              "4               4       1  ...      False        0.56250\n",
              "\n",
              "[5 rows x 14 columns]"
            ]
          },
          "metadata": {
            "tags": []
          },
          "execution_count": 3
        }
      ]
    },
    {
      "cell_type": "code",
      "metadata": {
        "id": "jgY1RrP_gIy_"
      },
      "source": [
        "color = []\n",
        "size = []\n",
        "\n",
        "for i in df['scaled_ratings']:\n",
        "  if i < 0.25:\n",
        "    color.append('red')\n",
        "  elif i < 0.50:\n",
        "    color.append('orange')\n",
        "  elif i < 0.75:\n",
        "    color.append('lightgreen')\n",
        "  else:\n",
        "    color.append('darkgreen')\n",
        "    \n",
        "for i in df['has_guests']:\n",
        "  if i == True:\n",
        "    size.append(250)\n",
        "  else:\n",
        "    size.append(25)"
      ],
      "execution_count": 4,
      "outputs": []
    },
    {
      "cell_type": "code",
      "metadata": {
        "id": "VTTtw32egVFk"
      },
      "source": [
        "df['colors'] = color\n",
        "df['sizes'] = size"
      ],
      "execution_count": 5,
      "outputs": []
    },
    {
      "cell_type": "code",
      "metadata": {
        "id": "5MqBGuSugau1"
      },
      "source": [
        "df0 = df[df['has_guests'] == False]\n",
        "df1 = df[df['has_guests'] == True]"
      ],
      "execution_count": 6,
      "outputs": []
    },
    {
      "cell_type": "code",
      "metadata": {
        "colab": {
          "base_uri": "https://localhost:8080/",
          "height": 496
        },
        "id": "Cd26c0digf-k",
        "outputId": "577539aa-e2e7-405b-9eeb-16b92d2783df"
      },
      "source": [
        "df1.head()"
      ],
      "execution_count": 7,
      "outputs": [
        {
          "output_type": "execute_result",
          "data": {
            "text/html": [
              "<div>\n",
              "<style scoped>\n",
              "    .dataframe tbody tr th:only-of-type {\n",
              "        vertical-align: middle;\n",
              "    }\n",
              "\n",
              "    .dataframe tbody tr th {\n",
              "        vertical-align: top;\n",
              "    }\n",
              "\n",
              "    .dataframe thead th {\n",
              "        text-align: right;\n",
              "    }\n",
              "</style>\n",
              "<table border=\"1\" class=\"dataframe\">\n",
              "  <thead>\n",
              "    <tr style=\"text-align: right;\">\n",
              "      <th></th>\n",
              "      <th>episode_number</th>\n",
              "      <th>season</th>\n",
              "      <th>episode_title</th>\n",
              "      <th>description</th>\n",
              "      <th>ratings</th>\n",
              "      <th>votes</th>\n",
              "      <th>viewership_mil</th>\n",
              "      <th>duration</th>\n",
              "      <th>release_date</th>\n",
              "      <th>guest_stars</th>\n",
              "      <th>director</th>\n",
              "      <th>writers</th>\n",
              "      <th>has_guests</th>\n",
              "      <th>scaled_ratings</th>\n",
              "      <th>colors</th>\n",
              "      <th>sizes</th>\n",
              "    </tr>\n",
              "  </thead>\n",
              "  <tbody>\n",
              "    <tr>\n",
              "      <th>5</th>\n",
              "      <td>5</td>\n",
              "      <td>1</td>\n",
              "      <td>Hot Girl</td>\n",
              "      <td>Michael is just one of the many male staff who...</td>\n",
              "      <td>7.7</td>\n",
              "      <td>3854</td>\n",
              "      <td>4.8</td>\n",
              "      <td>23</td>\n",
              "      <td>2005-04-26</td>\n",
              "      <td>Amy Adams</td>\n",
              "      <td>Amy Heckerling</td>\n",
              "      <td>Mindy Kaling</td>\n",
              "      <td>True</td>\n",
              "      <td>0.34375</td>\n",
              "      <td>orange</td>\n",
              "      <td>250</td>\n",
              "    </tr>\n",
              "    <tr>\n",
              "      <th>8</th>\n",
              "      <td>8</td>\n",
              "      <td>2</td>\n",
              "      <td>Office Olympics</td>\n",
              "      <td>Ready to finalize his deal for a new condo, Mi...</td>\n",
              "      <td>8.4</td>\n",
              "      <td>3665</td>\n",
              "      <td>8.3</td>\n",
              "      <td>22</td>\n",
              "      <td>2005-10-04</td>\n",
              "      <td>Nancy Carell</td>\n",
              "      <td>Paul Feig</td>\n",
              "      <td>Michael Schur</td>\n",
              "      <td>True</td>\n",
              "      <td>0.56250</td>\n",
              "      <td>lightgreen</td>\n",
              "      <td>250</td>\n",
              "    </tr>\n",
              "    <tr>\n",
              "      <th>9</th>\n",
              "      <td>9</td>\n",
              "      <td>2</td>\n",
              "      <td>The Fire</td>\n",
              "      <td>A fire in the kitchen relegates the staff to t...</td>\n",
              "      <td>8.4</td>\n",
              "      <td>3607</td>\n",
              "      <td>7.6</td>\n",
              "      <td>22</td>\n",
              "      <td>2005-10-11</td>\n",
              "      <td>Amy Adams</td>\n",
              "      <td>Ken Kwapis</td>\n",
              "      <td>B. J. Novak</td>\n",
              "      <td>True</td>\n",
              "      <td>0.56250</td>\n",
              "      <td>lightgreen</td>\n",
              "      <td>250</td>\n",
              "    </tr>\n",
              "    <tr>\n",
              "      <th>12</th>\n",
              "      <td>12</td>\n",
              "      <td>2</td>\n",
              "      <td>The Client</td>\n",
              "      <td>With Michael and Jan Levinson-Gould away from ...</td>\n",
              "      <td>8.6</td>\n",
              "      <td>3533</td>\n",
              "      <td>7.5</td>\n",
              "      <td>22</td>\n",
              "      <td>2005-11-08</td>\n",
              "      <td>Tim Meadows</td>\n",
              "      <td>Greg Daniels</td>\n",
              "      <td>Paul Lieberstein</td>\n",
              "      <td>True</td>\n",
              "      <td>0.62500</td>\n",
              "      <td>lightgreen</td>\n",
              "      <td>250</td>\n",
              "    </tr>\n",
              "    <tr>\n",
              "      <th>14</th>\n",
              "      <td>14</td>\n",
              "      <td>2</td>\n",
              "      <td>E-Mail Surveillance</td>\n",
              "      <td>Michael decides to set up e-mail surveillance ...</td>\n",
              "      <td>8.4</td>\n",
              "      <td>3338</td>\n",
              "      <td>8.1</td>\n",
              "      <td>23</td>\n",
              "      <td>2005-11-22</td>\n",
              "      <td>Ken Jeong</td>\n",
              "      <td>Paul Feig</td>\n",
              "      <td>Jennifer Celotta</td>\n",
              "      <td>True</td>\n",
              "      <td>0.56250</td>\n",
              "      <td>lightgreen</td>\n",
              "      <td>250</td>\n",
              "    </tr>\n",
              "  </tbody>\n",
              "</table>\n",
              "</div>"
            ],
            "text/plain": [
              "    episode_number  season  ...      colors sizes\n",
              "5                5       1  ...      orange   250\n",
              "8                8       2  ...  lightgreen   250\n",
              "9                9       2  ...  lightgreen   250\n",
              "12              12       2  ...  lightgreen   250\n",
              "14              14       2  ...  lightgreen   250\n",
              "\n",
              "[5 rows x 16 columns]"
            ]
          },
          "metadata": {
            "tags": []
          },
          "execution_count": 7
        }
      ]
    },
    {
      "cell_type": "code",
      "metadata": {
        "colab": {
          "base_uri": "https://localhost:8080/",
          "height": 458
        },
        "id": "6tIaIZbgglML",
        "outputId": "347f2a40-daca-4af3-db30-3a9b91444e42"
      },
      "source": [
        "plt.rcParams['figure.figsize'] = [11, 7]\n",
        "fig = plt.figure()\n",
        "\n",
        "plt.scatter(df1.episode_number, df1.viewership_mil, c=df1.colors, s=df1.sizes, marker='*')\n",
        "plt.scatter(df0.episode_number, df0.viewership_mil, c=df0.colors, s=df0.sizes)\n",
        "\n",
        "plt.xlabel('Episode Number')\n",
        "plt.ylabel('Viewership (Millions)')\n",
        "plt.title('Popularity, Quality, and Guest Appearances on the Office')\n",
        "\n",
        "plt.show()"
      ],
      "execution_count": 8,
      "outputs": [
        {
          "output_type": "display_data",
          "data": {
            "image/png": "[encoded data removed]",
            "text/plain": [
              "<Figure size 792x504 with 1 Axes>"
            ]
          },
          "metadata": {
            "tags": [],
            "needs_background": "light"
          }
        }
      ]
    }
  ]
}